{
 "cells": [
  {
   "cell_type": "markdown",
   "metadata": {},
   "source": [
    "2. 理解矩阵指数的含义，程序实现 $e^{i \\hat P}$, $\\hat{P}=\\sigma_x, \\sigma_y, \\sigma_y$. $\\sigma_x, \\sigma_y, \\sigma_y$ 是 $2*2$ 泡利矩阵。\n",
    " \n",
    "   考虑泰勒级数展开，试证明 $e^{i\\theta\\hat{P}} = \\cos(\\theta) I + \\mathrm{i}\\sin(\\theta) \\hat{P}$，并程序验证该公式的正确性。\n",
    "\n",
    "   根据解析证明，讨论以上矩阵欧拉公式成立对矩阵 $\\hat{P}$ 形式的限制。"
   ]
  },
  {
   "cell_type": "code",
   "execution_count": 1,
   "metadata": {},
   "outputs": [
    {
     "name": "stdout",
     "output_type": "stream",
     "text": [
      "[[0.54030231+0.j         0.        +0.84147098j]\n",
      " [0.        +0.84147098j 0.54030231+0.j        ]]\n",
      "[[ 0.54030231+0.j  0.84147098+0.j]\n",
      " [-0.84147098+0.j  0.54030231+0.j]]\n",
      "[[0.54030231+0.84147098j 0.        +0.j        ]\n",
      " [0.        +0.j         0.54030231-0.84147098j]]\n"
     ]
    }
   ],
   "source": [
    "import numpy as np\n",
    "from scipy import linalg as la\n",
    "from math import cos,sin,pi\n",
    "\n",
    "sigma_X = np.array([[0, 1], [1, 0]])\n",
    "sigma_Y = np.array([[0, -1j], [1j, 0]])\n",
    "sigma_Z = np.array([[1, 0], [0, -1]])\n",
    "pauli = [sigma_X, sigma_Y, sigma_Z]\n",
    "\n",
    "theta = 1\n",
    "I = np.eye(2)\n",
    "\n",
    "for P in pauli:\n",
    "    print(la.expm(1j * P))\n",
    "    lhs = la.expm(1j * theta * P)\n",
    "    rhs = cos(theta) * I + 1j * sin(theta) * P\n",
    "    np.testing.assert_allclose(lhs, rhs, atol=1e-8)\n"
   ]
  },
  {
   "cell_type": "markdown",
   "metadata": {},
   "source": [
    "现在我们来证明 $e^{i\\theta P}=\\cos (\\theta)I+\\text{i} \\sin (\\theta) P$。事实上只需要知道如下事实：对泡利矩阵 $P$，有 $P^2=I$。那么利用泰勒展开得到：\n",
    "\n",
    "$$e^{i\\theta P}=\\sum_{k\\ge 0}\\frac{(i\\theta P)^{k}}{k!}=\\sum_{k\\ge 0}\\frac{(-1)^k\\theta^{2k}I}{(2k)!}+i\\sum_{k\\ge 0}\\frac{(-1)^{k}\\theta^{2k+1}P}{(2k+1)!}=\\cos(\\theta)I+\\text{i}\\sin(\\theta)P$$\n",
    "\n",
    "所以这里对 $P$ 的限制就是 $P^2=I$。只要满足这个条件，上述公式就会对 $P$ 成立。"
   ]
  }
 ],
 "metadata": {
  "kernelspec": {
   "display_name": "base",
   "language": "python",
   "name": "python3"
  },
  "language_info": {
   "codemirror_mode": {
    "name": "ipython",
    "version": 3
   },
   "file_extension": ".py",
   "mimetype": "text/x-python",
   "name": "python",
   "nbconvert_exporter": "python",
   "pygments_lexer": "ipython3",
   "version": "3.12.4"
  }
 },
 "nbformat": 4,
 "nbformat_minor": 2
}

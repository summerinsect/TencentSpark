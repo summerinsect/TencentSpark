{
 "cells": [
  {
   "cell_type": "markdown",
   "metadata": {},
   "source": [
    "4. 理解矩阵张量积的含义，$X\\otimes I\\otimes I\\otimes Z$ 可简记为 $X_0Z_3$。\n",
    "   程序生成如下矩阵（输入 n）：\n",
    "\n",
    "   $$H = \\sum_{i=0}^{n-1} Z_i\\otimes I_{n-i-1} + \\sum_{i=0}^{n-2} X_i\\otimes I_{n-i-1}X_{i+1}\\otimes I_{n-i} ,$$\n",
    "\n",
    "   并求该矩阵 $H$ 在向量 $(1,0,0,....)$ 下的期望值。"
   ]
  },
  {
   "cell_type": "markdown",
   "metadata": {},
   "source": [
    "首先理解一下题目中记号的含义。$X_0Z_3 = X \\otimes I\\otimes I\\otimes Z$，实际上是在这个张量积的连乘式中，$X$ 位于第 $0$ 位，$Z$ 位于第 $3$ 位，其中 $X,Z$ 都是泡利矩阵。\n",
    "那么 $Z_iI_{n-i-1}$ 就表示一个 $n$ 项的连乘式，只有第 $i$ 位是 $Z$，其它位都是 $I$；$X_i\\otimes I_{n-i-1}X_{i+1}\\otimes I_{n-i}$ 也表示一个 $n$ 项的连乘式，\n",
    "只有第 $i,i+1$ 位是 $X$。据此就不难写出代码："
   ]
  },
  {
   "cell_type": "code",
   "execution_count": 1,
   "metadata": {},
   "outputs": [
    {
     "name": "stdout",
     "output_type": "stream",
     "text": [
      "5.0\n"
     ]
    }
   ],
   "source": [
    "import numpy as np\n",
    "from scipy import linalg as la\n",
    "from math import cos,sin,pi\n",
    "\n",
    "sigma_X = np.array([[0, 1], [1, 0]])\n",
    "sigma_Y = np.array([[0, -1j], [1j, 0]])\n",
    "sigma_Z = np.array([[1, 0], [0, -1]])\n",
    "pauli = [sigma_X, sigma_Y, sigma_Z]\n",
    "\n",
    "I = np.eye(2)\n",
    "\n",
    "def get_h(n):\n",
    "    matrix = []\n",
    "    sum = np.zeros((2**n, 2**n))\n",
    "    for i in range(n):\n",
    "        matrix.append(I)\n",
    "    for i in range(n):\n",
    "        matrix[i] = sigma_Z\n",
    "        prod = matrix[0]\n",
    "        for j in range(1, n):\n",
    "            prod = np.kron(prod, matrix[j])\n",
    "        sum = sum + prod\n",
    "        matrix[i] = I\n",
    "    for i in range(n-1):\n",
    "        matrix[i] = matrix[i+1] = sigma_X\n",
    "        prod = matrix[0]\n",
    "        for j in range(1,n):\n",
    "            prod = np.kron(prod, matrix[j])\n",
    "        sum = sum + prod\n",
    "        matrix[i] = matrix[i+1] = I\n",
    "    return sum\n",
    "\n",
    "n = int(input())\n",
    "H = get_h(n)\n",
    "v = np.zeros(2**n)\n",
    "v[0] = 1\n",
    "print(v.conj().T @ H @ v)"
   ]
  },
  {
   "cell_type": "markdown",
   "metadata": {},
   "source": [
    "求出来的期望值就等于 $n$。"
   ]
  }
 ],
 "metadata": {
  "kernelspec": {
   "display_name": "base",
   "language": "python",
   "name": "python3"
  },
  "language_info": {
   "codemirror_mode": {
    "name": "ipython",
    "version": 3
   },
   "file_extension": ".py",
   "mimetype": "text/x-python",
   "name": "python",
   "nbconvert_exporter": "python",
   "pygments_lexer": "ipython3",
   "version": "3.12.4"
  }
 },
 "nbformat": 4,
 "nbformat_minor": 2
}

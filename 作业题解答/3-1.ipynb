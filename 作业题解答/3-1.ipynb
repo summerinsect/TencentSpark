{
 "cells": [
  {
   "cell_type": "code",
   "execution_count": 19,
   "metadata": {},
   "outputs": [
    {
     "name": "stdout",
     "output_type": "stream",
     "text": [
      "(0.99999994+0j)\n"
     ]
    }
   ],
   "source": [
    "import tensorcircuit as tc\n",
    "\n",
    "c = tc.Circuit(2)\n",
    "c.h(0)\n",
    "c.cx(0, 1)\n",
    "\n",
    "print(c.expectation([tc.gates.z(), [0]], [tc.gates.z(), [1]]))\n"
   ]
  }
 ],
 "metadata": {
  "kernelspec": {
   "display_name": "d2l",
   "language": "python",
   "name": "python3"
  },
  "language_info": {
   "codemirror_mode": {
    "name": "ipython",
    "version": 3
   },
   "file_extension": ".py",
   "mimetype": "text/x-python",
   "name": "python",
   "nbconvert_exporter": "python",
   "pygments_lexer": "ipython3",
   "version": "3.10.14"
  }
 },
 "nbformat": 4,
 "nbformat_minor": 2
}

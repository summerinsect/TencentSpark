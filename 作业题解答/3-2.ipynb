{
 "cells": [
  {
   "cell_type": "code",
   "execution_count": 27,
   "metadata": {},
   "outputs": [
    {
     "name": "stderr",
     "output_type": "stream",
     "text": [
      "numpy backend has no jit interface, just do nothing\n"
     ]
    },
    {
     "name": "stdout",
     "output_type": "stream",
     "text": [
      "期望值 ⟨Z0Z1⟩: 1.0\n"
     ]
    }
   ],
   "source": [
    "import numpy as np\n",
    "import tensorcircuit as tc\n",
    "\n",
    "c = tc.Circuit(2)\n",
    "c.h(0)\n",
    "c.cx(0, 1)\n",
    "num = 1000\n",
    "res = c.sample(num)\n",
    "\n",
    "ans = 0\n",
    "for bit in res:\n",
    "    Z0 = int(bit[0][0])\n",
    "    Z1 = int(bit[0][1])\n",
    "    prod = (1 if Z0 == Z1 else -1)\n",
    "    ans += prod\n",
    "\n",
    "# 计算期望值\n",
    "ans /= num\n",
    "\n",
    "# 输出期望值\n",
    "print(\"期望值 ⟨Z0Z1⟩:\", ans)"
   ]
  }
 ],
 "metadata": {
  "kernelspec": {
   "display_name": "d2l",
   "language": "python",
   "name": "python3"
  },
  "language_info": {
   "codemirror_mode": {
    "name": "ipython",
    "version": 3
   },
   "file_extension": ".py",
   "mimetype": "text/x-python",
   "name": "python",
   "nbconvert_exporter": "python",
   "pygments_lexer": "ipython3",
   "version": "3.10.14"
  }
 },
 "nbformat": 4,
 "nbformat_minor": 2
}

{
 "cells": [
  {
   "cell_type": "markdown",
   "id": "40b6beac-59c2-4114-b4c0-32ea5e60fbc8",
   "metadata": {},
   "source": [
    "### 线性代数"
   ]
  },
  {
   "cell_type": "markdown",
   "id": "91ace67e-0d06-4946-83fd-c8a72ad99566",
   "metadata": {},
   "source": [
    "矩阵的对角化：对于一个矩阵 $M$，找到矩阵 $A$，使得 $A^{-1}MA$ 是对角矩阵，那么就称矩阵 $A$ 可以将矩阵 $M$ 对角化。\n",
    "\n",
    "矩阵的特征值：对于一个矩阵 $M$，如果存在实数 $\\lambda$ 和向量 $v$，使得 $Mv=\\lambda v$，则称 $\\lambda$ 是 $M$ 的一个特征值，$v$ 是 $\\lambda$ 对应的特征向量。"
   ]
  },
  {
   "cell_type": "markdown",
   "id": "ca79fb30-864a-4cd0-9c18-3b2ca90e92d4",
   "metadata": {},
   "source": [
    "定理：设 $M$ 为矩阵，$\\lambda_1 \\cdots \\lambda_n$ 是 $M$ 的特征值，$v_1\\cdots v_n$ 是对应的特征向量，形成线性无关集合。以每个特征向量为列构成矩阵 $A$，即 $A=[v_1~~v_2~~\\cdots~~v_n]$。则矩阵 $A$ 可以将矩阵 $M$ 对角化，且 $A^{-1}MA=diag(\\lambda_1,\\lambda_2,\\cdots,\\lambda_n)$。上述定理的逆定理也成立。"
   ]
  },
  {
   "cell_type": "markdown",
   "id": "a24155a6-f7a6-4c40-bcf4-e1238c3fd671",
   "metadata": {},
   "source": [
    "厄米（Hermitian）矩阵：如果矩阵 $H$ 满足 $H=H^{\\dagger}$，即 $H_{ij}=H_{ji}^{\\ast}$，则称 $H$ 为厄米矩阵。这里 $\\dagger$ 表示共轭转置，$\\ast$ 表示共轭。\n",
    "\n",
    "幺正（Unitary）矩阵：如果矩阵 $U$ 满足 $UU^{\\dagger}=I$，即 $\\sum_{j}U_{ij}U_{jk}^{\\ast}=\\delta_{ij}$，则称 $U$ 为幺正矩阵，也称酉矩阵。"
   ]
  },
  {
   "cell_type": "markdown",
   "id": "d2c53129-ac01-4586-a5aa-1b88f8e84247",
   "metadata": {},
   "source": [
    "定理：厄米矩阵可以幺正对角化，且得到的对角阵的所有元素都是实数。即，对厄米矩阵 $H$，存在一个幺正矩阵 $U$，使得 $U^{-1}HU$ 是实对角矩阵。"
   ]
  },
  {
   "cell_type": "markdown",
   "id": "a9bf3b3e-b6f9-4259-b57a-6035a67b1c47",
   "metadata": {},
   "source": [
    "矩阵函数：可以用泰勒展开把所有函数写成幂级数的形式，也就只有加法和乘法的形式。严格来说需要收敛性，这就需要矩阵特征值集合的上确界（谱半径）不超过函数的收敛半径。\n",
    "\n",
    "厄米矩阵的矩阵函数：对于厄米矩阵 $H$，进行对角化得到 $H=U\\Lambda U^{-1}$，其中 $\\Lambda$ 是实对角矩阵，记为 $diag(\\lambda_1,\\cdots,\\lambda_n)$。则 $f(H)=Uf(\\Lambda)U^{-1}$，$f(\\Lambda)=diag(f(\\lambda_1),f(\\lambda_2),\\cdots,f(\\lambda_n))$。"
   ]
  },
  {
   "cell_type": "markdown",
   "id": "7ea3b684-562e-4751-87d6-53099151f242",
   "metadata": {},
   "source": [
    "### 量子力学"
   ]
  },
  {
   "cell_type": "markdown",
   "id": "993054ca-6e59-4c21-8891-afd1972cee2a",
   "metadata": {},
   "source": [
    "公设 $1$：任意封闭物理系统都与一个成为系统状态空间的 Hilbert 空间相联系，系统完全由状态向量来描述，这个向量是系统状态空间的一个单位向量。\n",
    "\n",
    "公设 $2$：一个封闭量子系统的演化可以用一个酉变换来刻画。即对于系统在两个时刻 $t_1,t_2$ 的状态 $|\\psi_1\\rangle,|\\psi_2\\rangle$，存在一个只由 $t_1,t_2$ 决定的算子 $U=U(t_1,t_2)$，使得 $|\\psi_2\\rangle = U|\\psi_1\\rangle$。进一步地有 Schrodinger 方程。\n",
    "\n",
    "公设 $3$：量子测量由一组算子 $\\{M_m\\}$ 描述，这些算子作用在被测状态空间上，指标 $m$ 表示可能的测量结果。若测量时系统的状态为 $|\\psi \\rangle$，则结果 $m$ 发生的可能性由 $p(m)=\\langle \\psi | M_m^{\\dagger}M_m |\\psi \\rangle$ 给出，且测量后系统的状态为 $\\frac{M_m|\\psi \\rangle}{\\sqrt{\\langle \\psi | M_m^{\\dagger}M_m |\\psi \\rangle}}$。这里，要求测量算子满足完备性方程 $\\sum_{m} M_m^{\\dagger}M_m=I$。\n",
    "\n",
    "重要特例——投影测量：投影测量由被观测系统状态空间的一个厄米算子 $M$ 描述，该算子具有谱分解 $M=\\sum mP_m$，其中 $P_m$ 是到特征值 $m$ 的本征空间 $M$ 上的投影。测量状态 $\\psi$ 时，得到结果 $m$ 的概率为 $p(m)=\\langle \\psi | P_m |\\psi \\rangle$， 测量后系统的状态立即为 $\\frac{P_m |\\psi \\rangle}{\\sqrt{p(m)}}$。\n",
    "\n",
    "公设 $4$：复合物理系统的状态空间是分物理系统状态空间的张量积。"
   ]
  },
  {
   "cell_type": "markdown",
   "id": "82615363-a19d-4795-a403-2cb20a2dd454",
   "metadata": {},
   "source": [
    "用密度矩阵重新描述量子力学：\n",
    "\n",
    "设量子系统以概率 $p_i$ 处在一组状态 $|\\psi_i \\rangle$ 的某一个，$i$ 为指标，则称 $\\{p_i,|\\psi_i\\rangle\\}$ 为一个纯态的系综。系统的密度算子（密度矩阵）定义为 $\\rho = \\sum_{i} p_i|\\psi_i\\rangle\\langle\\psi_i|$。\n",
    "\n",
    "\n",
    "密度算子的特征：一个算子 $\\rho$ 是和某个系综 $\\{p_i,|\\psi_i\\rangle\\}$相关联的密度算子，当且仅当它满足以下两个条件：$\\rho$ 的迹等于 $1$，且 $\\rho$ 是半正定算子。\n",
    "\n",
    "推导之后可以重新描述上述公设：\n",
    "\n",
    "公设 $1$：任意封闭物理系统都与一个成为系统状态空间的 Hilbert 空间相联系，系统完全由状态空间上的密度算子所描述，密度算子是一个半正定迹为 $1$ 的算子 $\\rho$。如果量子系统以概率 $p_i$ 处于状态 $\\rho_i$，则系统的密度算子为 $\\sum_i p_i\\rho_i$。\n",
    "\n",
    "公设 $2$：封闭量子系统的演化由一个酉变换描述。即，系统在时刻 $t_1,t_2$ 的状态 $\\rho_1,\\rho_2$ 由一个仅依赖于时间 $t_1,t_2$ 的酉算子 $U=U(t_1,t_2)$ 相联系，且 $\\rho_2=U\\rho_1 U^{\\dagger}$。\n",
    "\n",
    "公设 $3$：量子测量由一组算子 $\\{M_m\\}$ 描述，这些算子作用在被测状态空间上，指标 $m$ 表示可能的测量结果。若测量时系统的状态为 $\\rho$，则得到结果 $m$ 的概率由 $p(m)=tr(M_m^{\\dagger}M_m\\rho)$ 给出，且测量后的系统状态为 $\\frac{M_m\\rho M_m^{\\dagger}}{tr(M_m^{\\dagger}M_m\\rho)}$，测量算子满足完备性方程 $\\sum_{m} M_m^{\\dagger}M_m=I$。\n",
    "\n",
    "公设 $4$：复合物理系统的状态空间是分物理系统状态空间的张量积，全系统的共同状态是各个分系统状态的张量积。"
   ]
  },
  {
   "cell_type": "markdown",
   "id": "7d01cda0",
   "metadata": {},
   "source": []
  }
 ],
 "metadata": {
  "kernelspec": {
   "display_name": "Python 3 (ipykernel)",
   "language": "python",
   "name": "python3"
  },
  "language_info": {
   "codemirror_mode": {
    "name": "ipython",
    "version": 3
   },
   "file_extension": ".py",
   "mimetype": "text/x-python",
   "name": "python",
   "nbconvert_exporter": "python",
   "pygments_lexer": "ipython3",
   "version": "3.10.14"
  }
 },
 "nbformat": 4,
 "nbformat_minor": 5
}
